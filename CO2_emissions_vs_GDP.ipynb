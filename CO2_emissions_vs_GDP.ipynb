{
  "nbformat": 4,
  "nbformat_minor": 0,
  "metadata": {
    "colab": {
      "name": "CO2 emissions vs GDP.ipynb",
      "provenance": [],
      "authorship_tag": "ABX9TyPyMSfUSGh0w1nKqQDPr1tC",
      "include_colab_link": true
    },
    "kernelspec": {
      "name": "python3",
      "display_name": "Python 3"
    },
    "language_info": {
      "name": "python"
    }
  },
  "cells": [
    {
      "cell_type": "markdown",
      "metadata": {
        "id": "view-in-github",
        "colab_type": "text"
      },
      "source": [
        "<a href=\"https://colab.research.google.com/github/pk2971/CO2-emissions-vs-GDP/blob/main/CO2_emissions_vs_GDP.ipynb\" target=\"_parent\"><img src=\"https://colab.research.google.com/assets/colab-badge.svg\" alt=\"Open In Colab\"/></a>"
      ]
    },
    {
      "cell_type": "code",
      "execution_count": 1,
      "metadata": {
        "colab": {
          "base_uri": "https://localhost:8080/"
        },
        "id": "6I6WFIA8cDKa",
        "outputId": "26e21337-a286-4156-bdd7-1b99f2fe339d"
      },
      "outputs": [
        {
          "output_type": "execute_result",
          "data": {
            "text/plain": [
              "<function google.colab.files.upload>"
            ]
          },
          "metadata": {},
          "execution_count": 1
        }
      ],
      "source": [
        "from google.colab import files\n",
        "upload=files.upload\n",
        "upload"
      ]
    },
    {
      "cell_type": "code",
      "source": [
        "from google.colab import drive\n",
        "drive.mount('/gdrive')\n",
        "%cd /gdrive"
      ],
      "metadata": {
        "colab": {
          "base_uri": "https://localhost:8080/"
        },
        "id": "KIi00IZFe5A-",
        "outputId": "717d5970-6bd8-4ad0-cb7a-1ccaebf07d1a"
      },
      "execution_count": 3,
      "outputs": [
        {
          "output_type": "stream",
          "name": "stdout",
          "text": [
            "Mounted at /gdrive\n",
            "/gdrive\n"
          ]
        }
      ]
    },
    {
      "cell_type": "code",
      "source": [
        "import pandas as pd\n",
        "df=pd.read_csv('/content/owid-co2-data.csv')"
      ],
      "metadata": {
        "id": "LKL48JVdEMk7"
      },
      "execution_count": 20,
      "outputs": []
    },
    {
      "cell_type": "code",
      "source": [
        "df.info()"
      ],
      "metadata": {
        "id": "O015X2wSFWDv"
      },
      "execution_count": null,
      "outputs": []
    },
    {
      "cell_type": "markdown",
      "source": [
        "**Data Exploration:-**"
      ],
      "metadata": {
        "id": "9_UGc1CJLAbF"
      }
    },
    {
      "cell_type": "code",
      "source": [
        "null_gdp=df['gdp'].isnull().sum()\n",
        "gdp=df['gdp'].sum()\n",
        "print(\"Null values in GDP\",null_gdp)\n",
        "print(\"Values in GDP\",gdp)"
      ],
      "metadata": {
        "colab": {
          "base_uri": "https://localhost:8080/"
        },
        "id": "NijHXHZuINTd",
        "outputId": "de9e7536-4a3d-4353-de41-769375b2405b"
      },
      "execution_count": 30,
      "outputs": [
        {
          "output_type": "stream",
          "name": "stdout",
          "text": [
            "Null values in GDP 11653\n",
            "Values in GDP 3895001794715256.0\n"
          ]
        }
      ]
    },
    {
      "cell_type": "markdown",
      "source": [
        "So there are very less number of null values in GDP. We will replace them with mean or median. Lets decide which one."
      ],
      "metadata": {
        "id": "DpHwXnMNI2YL"
      }
    },
    {
      "cell_type": "code",
      "source": [
        "print(\"Mean of GDP\",df['gdp'].mean())\n",
        "print(\"Mean of GDP\",df['gdp'].median())"
      ],
      "metadata": {
        "colab": {
          "base_uri": "https://localhost:8080/"
        },
        "id": "XFNjaMzcIyrW",
        "outputId": "46069922-853b-4433-d84a-505db05eff98"
      },
      "execution_count": 31,
      "outputs": [
        {
          "output_type": "stream",
          "name": "stdout",
          "text": [
            "Mean of GDP 287708804455.2551\n",
            "Mean of GDP 30370194552.0\n"
          ]
        }
      ]
    },
    {
      "cell_type": "markdown",
      "source": [
        "Mean might be effected by the GDP of very rich countries and is not an accurate value to replace the nulls with. As we can see there is a major difference between the mean and median of the GDP."
      ],
      "metadata": {
        "id": "ZlHtiESXKpjg"
      }
    },
    {
      "cell_type": "code",
      "source": [
        "df['gdp']=df['gdp'].fillna(df['gdp'].mean())"
      ],
      "metadata": {
        "colab": {
          "base_uri": "https://localhost:8080/"
        },
        "id": "FSTUAFuXK90J",
        "outputId": "b8627c81-6fae-4c54-e53d-578126e0c3ac"
      },
      "execution_count": 33,
      "outputs": [
        {
          "output_type": "execute_result",
          "data": {
            "text/plain": [
              "0"
            ]
          },
          "metadata": {},
          "execution_count": 33
        }
      ]
    }
  ]
}