{
  "nbformat": 4,
  "nbformat_minor": 0,
  "metadata": {
    "colab": {
      "name": "CO2 emissions vs GDP.ipynb",
      "provenance": [],
      "authorship_tag": "ABX9TyMFEvKv/AgOEvFykbAIMcol",
      "include_colab_link": true
    },
    "kernelspec": {
      "name": "python3",
      "display_name": "Python 3"
    },
    "language_info": {
      "name": "python"
    }
  },
  "cells": [
    {
      "cell_type": "markdown",
      "metadata": {
        "id": "view-in-github",
        "colab_type": "text"
      },
      "source": [
        "<a href=\"https://colab.research.google.com/github/pk2971/CO2-emissions-vs-GDP/blob/main/CO2_emissions_vs_GDP.ipynb\" target=\"_parent\"><img src=\"https://colab.research.google.com/assets/colab-badge.svg\" alt=\"Open In Colab\"/></a>"
      ]
    },
    {
      "cell_type": "code",
      "source": [
        "from google.colab import drive\n",
        "drive.mount('/gdrive')\n",
        "%cd /gdrive"
      ],
      "metadata": {
        "colab": {
          "base_uri": "https://localhost:8080/"
        },
        "id": "KIi00IZFe5A-",
        "outputId": "591fe882-0ecb-47ef-ca2d-b89fe14e2b2d"
      },
      "execution_count": 87,
      "outputs": [
        {
          "output_type": "stream",
          "name": "stdout",
          "text": [
            "Drive already mounted at /gdrive; to attempt to forcibly remount, call drive.mount(\"/gdrive\", force_remount=True).\n",
            "/gdrive\n"
          ]
        }
      ]
    },
    {
      "cell_type": "code",
      "source": [
        "import pandas as pd\n",
        "df=pd.read_csv('/content/owid-co2-data.csv')"
      ],
      "metadata": {
        "id": "LKL48JVdEMk7"
      },
      "execution_count": 88,
      "outputs": []
    },
    {
      "cell_type": "code",
      "source": [
        "df.info()"
      ],
      "metadata": {
        "id": "O015X2wSFWDv"
      },
      "execution_count": null,
      "outputs": []
    },
    {
      "cell_type": "markdown",
      "source": [
        "**Data Exploration:-**"
      ],
      "metadata": {
        "id": "9_UGc1CJLAbF"
      }
    },
    {
      "cell_type": "code",
      "source": [
        "null_gdp=df['gdp'].isnull().sum()\n",
        "gdp=df['gdp'].sum()\n",
        "print(\"Null values in GDP\",null_gdp)\n",
        "print(\"Values in GDP\",gdp)"
      ],
      "metadata": {
        "colab": {
          "base_uri": "https://localhost:8080/"
        },
        "id": "NijHXHZuINTd",
        "outputId": "263b7da1-adde-4118-ad79-db87b0d698b6"
      },
      "execution_count": 90,
      "outputs": [
        {
          "output_type": "stream",
          "name": "stdout",
          "text": [
            "Null values in GDP 11653\n",
            "Values in GDP 3895001794715256.0\n"
          ]
        }
      ]
    },
    {
      "cell_type": "markdown",
      "source": [
        "So there are very less number of null values in GDP. We will replace them with mean or median. Lets decide which one."
      ],
      "metadata": {
        "id": "DpHwXnMNI2YL"
      }
    },
    {
      "cell_type": "code",
      "source": [
        "print(\"Mean of GDP\",df['gdp'].mean())\n",
        "print(\"Mean of GDP\",df['gdp'].median())"
      ],
      "metadata": {
        "colab": {
          "base_uri": "https://localhost:8080/"
        },
        "id": "XFNjaMzcIyrW",
        "outputId": "32d41ebc-0274-4d26-c371-203bed856d70"
      },
      "execution_count": 91,
      "outputs": [
        {
          "output_type": "stream",
          "name": "stdout",
          "text": [
            "Mean of GDP 287708804455.2551\n",
            "Mean of GDP 30370194552.0\n"
          ]
        }
      ]
    },
    {
      "cell_type": "markdown",
      "source": [
        "Mean might be effected by the GDP of very rich countries and is not an accurate value to replace the nulls with. As we can see there is a major difference between the mean and median of the GDP."
      ],
      "metadata": {
        "id": "ZlHtiESXKpjg"
      }
    },
    {
      "cell_type": "code",
      "source": [
        "df['gdp']=df['gdp'].fillna(df['gdp'].median())"
      ],
      "metadata": {
        "id": "FSTUAFuXK90J"
      },
      "execution_count": 92,
      "outputs": []
    },
    {
      "cell_type": "markdown",
      "source": [
        "According to census the top 5 countries ranked according to GDP are:\n",
        "1.USA\n",
        "2.China\n",
        "3.Japan\n",
        "4.Germany\n",
        "5.India\n",
        "We will try concentrating on these countries for visualization first."
      ],
      "metadata": {
        "id": "PRPJbXhtP-ih"
      }
    },
    {
      "cell_type": "markdown",
      "source": [
        "Dropping columns that have way too many null values."
      ],
      "metadata": {
        "id": "y7lH6ETfRQkm"
      }
    },
    {
      "cell_type": "code",
      "source": [
        "df.drop(['iso_code','trade_co2','other_industry_co2','other_co2_per_capita','co2_per_unit_energy','consumption_co2','consumption_co2_per_capita','consumption_co2_per_gdp','cumulative_other_co2','trade_co2_share','share_global_other_co2'], axis=1, inplace=True)"
      ],
      "metadata": {
        "id": "OqEv31wtPcU8"
      },
      "execution_count": 93,
      "outputs": []
    },
    {
      "cell_type": "code",
      "source": [
        "df = df.dropna( axis=1, thresh=16000)\n",
        "df.info()"
      ],
      "metadata": {
        "colab": {
          "base_uri": "https://localhost:8080/"
        },
        "id": "kwb_qfFsZqOW",
        "outputId": "6cf249c5-6f53-42a1-ae06-1e4225efa3c8"
      },
      "execution_count": 95,
      "outputs": [
        {
          "output_type": "stream",
          "name": "stdout",
          "text": [
            "<class 'pandas.core.frame.DataFrame'>\n",
            "RangeIndex: 25191 entries, 0 to 25190\n",
            "Data columns (total 21 columns):\n",
            " #   Column                            Non-Null Count  Dtype  \n",
            "---  ------                            --------------  -----  \n",
            " 0   country                           25191 non-null  object \n",
            " 1   year                              25191 non-null  int64  \n",
            " 2   co2                               23949 non-null  float64\n",
            " 3   co2_per_capita                    23307 non-null  float64\n",
            " 4   coal_co2                          17188 non-null  float64\n",
            " 5   coal_co2_per_capita               16860 non-null  float64\n",
            " 6   oil_co2                           20539 non-null  float64\n",
            " 7   oil_co2_per_capita                20181 non-null  float64\n",
            " 8   co2_growth_prct                   24931 non-null  float64\n",
            " 9   co2_growth_abs                    23585 non-null  float64\n",
            " 10  cumulative_co2                    23949 non-null  float64\n",
            " 11  cumulative_coal_co2               17188 non-null  float64\n",
            " 12  cumulative_oil_co2                20539 non-null  float64\n",
            " 13  share_global_co2                  23949 non-null  float64\n",
            " 14  share_global_coal_co2             17188 non-null  float64\n",
            " 15  share_global_oil_co2              20539 non-null  float64\n",
            " 16  share_global_cumulative_co2       23949 non-null  float64\n",
            " 17  share_global_cumulative_coal_co2  17188 non-null  float64\n",
            " 18  share_global_cumulative_oil_co2   20539 non-null  float64\n",
            " 19  population                        22892 non-null  float64\n",
            " 20  gdp                               25191 non-null  float64\n",
            "dtypes: float64(19), int64(1), object(1)\n",
            "memory usage: 4.0+ MB\n"
          ]
        }
      ]
    },
    {
      "cell_type": "code",
      "source": [
        "df['co2']=df['co2'].fillna(df['co2'].median())\n",
        "df['co2_per_capita']=df['co2_per_capita'].fillna(df['co2_per_capita'].median())\n",
        "df['coal_co2']=df['coal_co2'].fillna(df['coal_co2'].median())\n",
        "df['co2']=df['co2'].fillna(df['co2'].median())\n",
        "df['coal_co2_per_capita']=df['coal_co2_per_capita'].fillna(df['coal_co2_per_capita'].median())\n",
        "df['oil_co2']=df['oil_co2'].fillna(df['oil_co2'].median())\n",
        "df['oil_co2_per_capita']=df['oil_co2_per_capita'].fillna(df['oil_co2_per_capita'].median())\n",
        "df['co2_growth_prct']=df['co2_growth_prct'].fillna(df['co2_growth_prct'].median())\n",
        "df['co2_growth_abs']=df['co2_growth_abs'].fillna(df['co2_growth_abs'].median())\n",
        "df['cumulative_co2']=df['cumulative_co2'].fillna(df['cumulative_co2'].median())\n",
        "df['cumulative_coal_co2']=df['cumulative_coal_co2'].fillna(df['cumulative_coal_co2'].median())\n",
        "df['cumulative_oil_co2']=df['cumulative_oil_co2'].fillna(df['cumulative_oil_co2'].median())\n",
        "df['share_global_co2']=df['share_global_co2'].fillna(df['share_global_co2'].median())\n",
        "df['share_global_oil_co2']=df['share_global_oil_co2'].fillna(df['share_global_oil_co2'].median())\n",
        "df['share_global_cumulative_co2']=df['share_global_cumulative_co2'].fillna(df['share_global_cumulative_co2'].median())\n",
        "df['share_global_cumulative_coal_co2']=df['share_global_cumulative_coal_co2'].fillna(df['share_global_cumulative_coal_co2'].median())\n",
        "df['share_global_cumulative_oil_co2']=df['share_global_cumulative_oil_co2'].fillna(df['share_global_cumulative_oil_co2'].median())\n",
        "df['population']=df['population'].fillna(df['population'].median())\n",
        "df['share_global_coal_co2']=df['share_global_coal_co2'].fillna(df['share_global_coal_co2'].median())\n"
      ],
      "metadata": {
        "id": "uCHWmaWabdko"
      },
      "execution_count": 105,
      "outputs": []
    },
    {
      "cell_type": "code",
      "source": [
        "df.info()"
      ],
      "metadata": {
        "colab": {
          "base_uri": "https://localhost:8080/"
        },
        "id": "s0G6kqkNd5fk",
        "outputId": "c57185d7-ffeb-4438-d3bf-f74851e78941"
      },
      "execution_count": 106,
      "outputs": [
        {
          "output_type": "stream",
          "name": "stdout",
          "text": [
            "<class 'pandas.core.frame.DataFrame'>\n",
            "RangeIndex: 25191 entries, 0 to 25190\n",
            "Data columns (total 21 columns):\n",
            " #   Column                            Non-Null Count  Dtype  \n",
            "---  ------                            --------------  -----  \n",
            " 0   country                           25191 non-null  object \n",
            " 1   year                              25191 non-null  int64  \n",
            " 2   co2                               25191 non-null  float64\n",
            " 3   co2_per_capita                    25191 non-null  float64\n",
            " 4   coal_co2                          25191 non-null  float64\n",
            " 5   coal_co2_per_capita               25191 non-null  float64\n",
            " 6   oil_co2                           25191 non-null  float64\n",
            " 7   oil_co2_per_capita                25191 non-null  float64\n",
            " 8   co2_growth_prct                   25191 non-null  float64\n",
            " 9   co2_growth_abs                    25191 non-null  float64\n",
            " 10  cumulative_co2                    25191 non-null  float64\n",
            " 11  cumulative_coal_co2               25191 non-null  float64\n",
            " 12  cumulative_oil_co2                25191 non-null  float64\n",
            " 13  share_global_co2                  25191 non-null  float64\n",
            " 14  share_global_coal_co2             25191 non-null  float64\n",
            " 15  share_global_oil_co2              25191 non-null  float64\n",
            " 16  share_global_cumulative_co2       25191 non-null  float64\n",
            " 17  share_global_cumulative_coal_co2  25191 non-null  float64\n",
            " 18  share_global_cumulative_oil_co2   25191 non-null  float64\n",
            " 19  population                        25191 non-null  float64\n",
            " 20  gdp                               25191 non-null  float64\n",
            "dtypes: float64(19), int64(1), object(1)\n",
            "memory usage: 4.0+ MB\n"
          ]
        }
      ]
    }
  ]
}