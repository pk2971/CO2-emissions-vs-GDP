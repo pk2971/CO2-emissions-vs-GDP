{
  "nbformat": 4,
  "nbformat_minor": 0,
  "metadata": {
    "colab": {
      "name": "Predicting the CO2 emissions.ipynb",
      "provenance": [],
      "authorship_tag": "ABX9TyOIb2xnY5nD0/GDLUCfAVML",
      "include_colab_link": true
    },
    "kernelspec": {
      "name": "python3",
      "display_name": "Python 3"
    },
    "language_info": {
      "name": "python"
    }
  },
  "cells": [
    {
      "cell_type": "markdown",
      "metadata": {
        "id": "view-in-github",
        "colab_type": "text"
      },
      "source": [
        "<a href=\"https://colab.research.google.com/github/pk2971/CO2-emissions-vs-GDP/blob/main/Predicting_the_CO2_emissions.ipynb\" target=\"_parent\"><img src=\"https://colab.research.google.com/assets/colab-badge.svg\" alt=\"Open In Colab\"/></a>"
      ]
    },
    {
      "cell_type": "code",
      "source": [
        "import numpy as np\n",
        "import pandas as pd\n",
        "import seaborn as sns\n",
        "import matplotlib.pyplot as plt\n",
        "import pandas as pd\n",
        "from sklearn.model_selection import train_test_split, cross_val_score \n",
        "from sklearn.ensemble import RandomForestRegressor\n",
        "import xgboost as xgb\n",
        "from xgboost import plot_importance\n",
        "from sklearn.neighbors import KNeighborsRegressor\n",
        "knn=KNeighborsRegressor(algorithm='auto')\n",
        "from sklearn.linear_model import LinearRegression\n",
        "from sklearn.ensemble import GradientBoostingRegressor\n"
      ],
      "metadata": {
        "id": "KIi00IZFe5A-"
      },
      "execution_count": 221,
      "outputs": []
    },
    {
      "cell_type": "code",
      "source": [
        "df=pd.read_csv('/content/owid-co2-data.csv')"
      ],
      "metadata": {
        "id": "LKL48JVdEMk7"
      },
      "execution_count": 222,
      "outputs": []
    },
    {
      "cell_type": "code",
      "source": [
        "df.info()"
      ],
      "metadata": {
        "colab": {
          "base_uri": "https://localhost:8080/"
        },
        "id": "O015X2wSFWDv",
        "outputId": "a5557886-13cc-4395-9b4e-7fe976682c9e"
      },
      "execution_count": 223,
      "outputs": [
        {
          "output_type": "stream",
          "name": "stdout",
          "text": [
            "<class 'pandas.core.frame.DataFrame'>\n",
            "RangeIndex: 25191 entries, 0 to 25190\n",
            "Data columns (total 60 columns):\n",
            " #   Column                               Non-Null Count  Dtype  \n",
            "---  ------                               --------------  -----  \n",
            " 0   iso_code                             21960 non-null  object \n",
            " 1   country                              25191 non-null  object \n",
            " 2   year                                 25191 non-null  int64  \n",
            " 3   co2                                  23949 non-null  float64\n",
            " 4   co2_per_capita                       23307 non-null  float64\n",
            " 5   trade_co2                            3976 non-null   float64\n",
            " 6   cement_co2                           12248 non-null  float64\n",
            " 7   cement_co2_per_capita                12218 non-null  float64\n",
            " 8   coal_co2                             17188 non-null  float64\n",
            " 9   coal_co2_per_capita                  16860 non-null  float64\n",
            " 10  flaring_co2                          4382 non-null   float64\n",
            " 11  flaring_co2_per_capita               4381 non-null   float64\n",
            " 12  gas_co2                              8845 non-null   float64\n",
            " 13  gas_co2_per_capita                   8835 non-null   float64\n",
            " 14  oil_co2                              20539 non-null  float64\n",
            " 15  oil_co2_per_capita                   20181 non-null  float64\n",
            " 16  other_industry_co2                   1999 non-null   float64\n",
            " 17  other_co2_per_capita                 1999 non-null   float64\n",
            " 18  co2_growth_prct                      24931 non-null  float64\n",
            " 19  co2_growth_abs                       23585 non-null  float64\n",
            " 20  co2_per_gdp                          15389 non-null  float64\n",
            " 21  co2_per_unit_energy                  9141 non-null   float64\n",
            " 22  consumption_co2                      3976 non-null   float64\n",
            " 23  consumption_co2_per_capita           3976 non-null   float64\n",
            " 24  consumption_co2_per_gdp              3761 non-null   float64\n",
            " 25  cumulative_co2                       23949 non-null  float64\n",
            " 26  cumulative_cement_co2                12248 non-null  float64\n",
            " 27  cumulative_coal_co2                  17188 non-null  float64\n",
            " 28  cumulative_flaring_co2               4382 non-null   float64\n",
            " 29  cumulative_gas_co2                   8845 non-null   float64\n",
            " 30  cumulative_oil_co2                   20539 non-null  float64\n",
            " 31  cumulative_other_co2                 1999 non-null   float64\n",
            " 32  trade_co2_share                      3976 non-null   float64\n",
            " 33  share_global_co2                     23949 non-null  float64\n",
            " 34  share_global_cement_co2              12248 non-null  float64\n",
            " 35  share_global_coal_co2                17188 non-null  float64\n",
            " 36  share_global_flaring_co2             4382 non-null   float64\n",
            " 37  share_global_gas_co2                 8845 non-null   float64\n",
            " 38  share_global_oil_co2                 20539 non-null  float64\n",
            " 39  share_global_other_co2               1999 non-null   float64\n",
            " 40  share_global_cumulative_co2          23949 non-null  float64\n",
            " 41  share_global_cumulative_cement_co2   12248 non-null  float64\n",
            " 42  share_global_cumulative_coal_co2     17188 non-null  float64\n",
            " 43  share_global_cumulative_flaring_co2  4382 non-null   float64\n",
            " 44  share_global_cumulative_gas_co2      8845 non-null   float64\n",
            " 45  share_global_cumulative_oil_co2      20539 non-null  float64\n",
            " 46  share_global_cumulative_other_co2    1999 non-null   float64\n",
            " 47  total_ghg                            5651 non-null   float64\n",
            " 48  ghg_per_capita                       5651 non-null   float64\n",
            " 49  total_ghg_excluding_lucf             5651 non-null   float64\n",
            " 50  ghg_excluding_lucf_per_capita        5651 non-null   float64\n",
            " 51  methane                              5655 non-null   float64\n",
            " 52  methane_per_capita                   5655 non-null   float64\n",
            " 53  nitrous_oxide                        5655 non-null   float64\n",
            " 54  nitrous_oxide_per_capita             5655 non-null   float64\n",
            " 55  population                           22892 non-null  float64\n",
            " 56  gdp                                  13538 non-null  float64\n",
            " 57  primary_energy_consumption           8690 non-null   float64\n",
            " 58  energy_per_capita                    8681 non-null   float64\n",
            " 59  energy_per_gdp                       6803 non-null   float64\n",
            "dtypes: float64(57), int64(1), object(2)\n",
            "memory usage: 11.5+ MB\n"
          ]
        }
      ]
    },
    {
      "cell_type": "markdown",
      "source": [
        "**Data Exploration:-**"
      ],
      "metadata": {
        "id": "9_UGc1CJLAbF"
      }
    },
    {
      "cell_type": "code",
      "source": [
        "null_gdp=df['gdp'].isnull().sum()\n",
        "gdp=df['gdp'].sum()\n",
        "print(\"Null values in GDP\",null_gdp)\n",
        "print(\"Values in GDP\",gdp)"
      ],
      "metadata": {
        "colab": {
          "base_uri": "https://localhost:8080/"
        },
        "id": "NijHXHZuINTd",
        "outputId": "fb418ff5-ba81-416a-b795-46b223b18d64"
      },
      "execution_count": 224,
      "outputs": [
        {
          "output_type": "stream",
          "name": "stdout",
          "text": [
            "Null values in GDP 11653\n",
            "Values in GDP 3895001794715256.0\n"
          ]
        }
      ]
    },
    {
      "cell_type": "markdown",
      "source": [
        "So there are very less number of null values in GDP. We will replace them with mean or median. Lets decide which one."
      ],
      "metadata": {
        "id": "DpHwXnMNI2YL"
      }
    },
    {
      "cell_type": "code",
      "source": [
        "print(\"Mean of GDP\",df['gdp'].mean())\n",
        "print(\"Mean of GDP\",df['gdp'].median())"
      ],
      "metadata": {
        "colab": {
          "base_uri": "https://localhost:8080/"
        },
        "id": "XFNjaMzcIyrW",
        "outputId": "a350de48-d7d4-4000-d5db-17542ea90c01"
      },
      "execution_count": 225,
      "outputs": [
        {
          "output_type": "stream",
          "name": "stdout",
          "text": [
            "Mean of GDP 287708804455.2551\n",
            "Mean of GDP 30370194552.0\n"
          ]
        }
      ]
    },
    {
      "cell_type": "markdown",
      "source": [
        "Mean might be effected by the GDP of very rich countries and is not an accurate value to replace the nulls with. As we can see there is a major difference between the mean and median of the GDP."
      ],
      "metadata": {
        "id": "ZlHtiESXKpjg"
      }
    },
    {
      "cell_type": "code",
      "source": [
        "df['gdp']=df['gdp'].fillna(df['gdp'].median())"
      ],
      "metadata": {
        "id": "FSTUAFuXK90J"
      },
      "execution_count": 226,
      "outputs": []
    },
    {
      "cell_type": "markdown",
      "source": [
        "According to census the top 5 countries ranked according to GDP are:\n",
        "1.USA\n",
        "2.China\n",
        "3.Japan\n",
        "4.Germany\n",
        "5.India\n",
        "We will try concentrating on these countries for visualization first."
      ],
      "metadata": {
        "id": "PRPJbXhtP-ih"
      }
    },
    {
      "cell_type": "markdown",
      "source": [
        "Dropping columns that have way too many null values."
      ],
      "metadata": {
        "id": "y7lH6ETfRQkm"
      }
    },
    {
      "cell_type": "code",
      "source": [
        "df.drop(['iso_code','trade_co2','other_industry_co2','other_co2_per_capita','co2_per_unit_energy','consumption_co2','consumption_co2_per_capita','consumption_co2_per_gdp','cumulative_other_co2','trade_co2_share','share_global_other_co2'], axis=1, inplace=True)"
      ],
      "metadata": {
        "id": "OqEv31wtPcU8"
      },
      "execution_count": 227,
      "outputs": []
    },
    {
      "cell_type": "code",
      "source": [
        "df = df.dropna( axis=1, thresh=16000)\n",
        "df.info()"
      ],
      "metadata": {
        "colab": {
          "base_uri": "https://localhost:8080/"
        },
        "id": "kwb_qfFsZqOW",
        "outputId": "500676cf-dd7b-45b2-f652-8295ca18f77d"
      },
      "execution_count": 228,
      "outputs": [
        {
          "output_type": "stream",
          "name": "stdout",
          "text": [
            "<class 'pandas.core.frame.DataFrame'>\n",
            "RangeIndex: 25191 entries, 0 to 25190\n",
            "Data columns (total 21 columns):\n",
            " #   Column                            Non-Null Count  Dtype  \n",
            "---  ------                            --------------  -----  \n",
            " 0   country                           25191 non-null  object \n",
            " 1   year                              25191 non-null  int64  \n",
            " 2   co2                               23949 non-null  float64\n",
            " 3   co2_per_capita                    23307 non-null  float64\n",
            " 4   coal_co2                          17188 non-null  float64\n",
            " 5   coal_co2_per_capita               16860 non-null  float64\n",
            " 6   oil_co2                           20539 non-null  float64\n",
            " 7   oil_co2_per_capita                20181 non-null  float64\n",
            " 8   co2_growth_prct                   24931 non-null  float64\n",
            " 9   co2_growth_abs                    23585 non-null  float64\n",
            " 10  cumulative_co2                    23949 non-null  float64\n",
            " 11  cumulative_coal_co2               17188 non-null  float64\n",
            " 12  cumulative_oil_co2                20539 non-null  float64\n",
            " 13  share_global_co2                  23949 non-null  float64\n",
            " 14  share_global_coal_co2             17188 non-null  float64\n",
            " 15  share_global_oil_co2              20539 non-null  float64\n",
            " 16  share_global_cumulative_co2       23949 non-null  float64\n",
            " 17  share_global_cumulative_coal_co2  17188 non-null  float64\n",
            " 18  share_global_cumulative_oil_co2   20539 non-null  float64\n",
            " 19  population                        22892 non-null  float64\n",
            " 20  gdp                               25191 non-null  float64\n",
            "dtypes: float64(19), int64(1), object(1)\n",
            "memory usage: 4.0+ MB\n"
          ]
        }
      ]
    },
    {
      "cell_type": "code",
      "source": [
        "df['co2']=df['co2'].fillna(df['co2'].median())\n",
        "df['co2_per_capita']=df['co2_per_capita'].fillna(df['co2_per_capita'].median())\n",
        "df['coal_co2']=df['coal_co2'].fillna(df['coal_co2'].median())\n",
        "df['co2']=df['co2'].fillna(df['co2'].median())\n",
        "df['coal_co2_per_capita']=df['coal_co2_per_capita'].fillna(df['coal_co2_per_capita'].median())\n",
        "df['oil_co2']=df['oil_co2'].fillna(df['oil_co2'].median())\n",
        "df['oil_co2_per_capita']=df['oil_co2_per_capita'].fillna(df['oil_co2_per_capita'].median())\n",
        "df['co2_growth_prct']=df['co2_growth_prct'].fillna(df['co2_growth_prct'].median())\n",
        "df['co2_growth_abs']=df['co2_growth_abs'].fillna(df['co2_growth_abs'].median())\n",
        "df['cumulative_co2']=df['cumulative_co2'].fillna(df['cumulative_co2'].median())\n",
        "df['cumulative_coal_co2']=df['cumulative_coal_co2'].fillna(df['cumulative_coal_co2'].median())\n",
        "df['cumulative_oil_co2']=df['cumulative_oil_co2'].fillna(df['cumulative_oil_co2'].median())\n",
        "df['share_global_co2']=df['share_global_co2'].fillna(df['share_global_co2'].median())\n",
        "df['share_global_oil_co2']=df['share_global_oil_co2'].fillna(df['share_global_oil_co2'].median())\n",
        "df['share_global_cumulative_co2']=df['share_global_cumulative_co2'].fillna(df['share_global_cumulative_co2'].median())\n",
        "df['share_global_cumulative_coal_co2']=df['share_global_cumulative_coal_co2'].fillna(df['share_global_cumulative_coal_co2'].median())\n",
        "df['share_global_cumulative_oil_co2']=df['share_global_cumulative_oil_co2'].fillna(df['share_global_cumulative_oil_co2'].median())\n",
        "df['population']=df['population'].fillna(df['population'].median())\n",
        "df['share_global_coal_co2']=df['share_global_coal_co2'].fillna(df['share_global_coal_co2'].median())\n"
      ],
      "metadata": {
        "id": "uCHWmaWabdko"
      },
      "execution_count": 229,
      "outputs": []
    },
    {
      "cell_type": "code",
      "source": [
        "corrmat = df.corr()\n",
        "f, ax = plt.subplots(figsize=(10, 8))\n",
        "sns.heatmap(corrmat, vmax=.8, square=True,xticklabels=True, yticklabels=True);"
      ],
      "metadata": {
        "colab": {
          "base_uri": "https://localhost:8080/",
          "height": 669
        },
        "id": "jtApeTFBeXqK",
        "outputId": "9eafe08b-f54a-434c-ba28-ce7e843965b7"
      },
      "execution_count": 230,
      "outputs": [
        {
          "output_type": "display_data",
          "data": {
            "text/plain": [
              "<Figure size 720x576 with 2 Axes>"
            ],
            "image/png": "[encoded data removed]"
          },
          "metadata": {
            "needs_background": "light"
          }
        }
      ]
    },
    {
      "cell_type": "code",
      "source": [
        "df.drop(['cumulative_co2','cumulative_coal_co2','cumulative_oil_co2','share_global_co2','share_global_coal_co2','share_global_oil_co2','share_global_cumulative_co2','share_global_cumulative_coal_co2','share_global_cumulative_oil_co2','co2_per_capita','coal_co2_per_capita','oil_co2_per_capita'], axis=1, inplace=True)"
      ],
      "metadata": {
        "id": "r2rWbA2y30Ir"
      },
      "execution_count": 231,
      "outputs": []
    },
    {
      "cell_type": "code",
      "source": [
        "fig, ax = plt.subplots(figsize=(10, 6))\n",
        "ax.scatter(x = df['gdp'], y = df['co2'])\n",
        "plt.xlabel(\"GDP per Capita\")\n",
        "plt.ylabel(\"co2\")\n",
        "\n",
        "plt.show()"
      ],
      "metadata": {
        "colab": {
          "base_uri": "https://localhost:8080/",
          "height": 408
        },
        "id": "UjG1Ml6wfi3I",
        "outputId": "c8307d8b-8c05-4426-ec74-b3636bbcea04"
      },
      "execution_count": 232,
      "outputs": [
        {
          "output_type": "display_data",
          "data": {
            "text/plain": [
              "<Figure size 720x432 with 1 Axes>"
            ],
            "image/png": "[encoded data removed]"
          },
          "metadata": {
            "needs_background": "light"
          }
        }
      ]
    },
    {
      "cell_type": "code",
      "source": [
        "fig, ax = plt.subplots(figsize=(10, 6))\n",
        "ax.scatter(x = df['co2'], y = df['population'])\n",
        "plt.xlabel(\"co2\")\n",
        "plt.ylabel(\"population\")\n",
        "\n",
        "plt.show()"
      ],
      "metadata": {
        "colab": {
          "base_uri": "https://localhost:8080/",
          "height": 420
        },
        "id": "f86czeMef7H8",
        "outputId": "2ae8f5b9-9b62-4a3e-875b-282559eb92fe"
      },
      "execution_count": 233,
      "outputs": [
        {
          "output_type": "display_data",
          "data": {
            "text/plain": [
              "<Figure size 720x432 with 1 Axes>"
            ],
            "image/png": "[encoded data removed]"
          },
          "metadata": {
            "needs_background": "light"
          }
        }
      ]
    },
    {
      "cell_type": "code",
      "source": [
        "df=df.drop('country',1)"
      ],
      "metadata": {
        "colab": {
          "base_uri": "https://localhost:8080/"
        },
        "id": "Mu0Z4kbvlkOk",
        "outputId": "c445e04c-54b7-4e72-a35e-6de06f377eb2"
      },
      "execution_count": 234,
      "outputs": [
        {
          "output_type": "stream",
          "name": "stderr",
          "text": [
            "/usr/local/lib/python3.7/dist-packages/ipykernel_launcher.py:1: FutureWarning: In a future version of pandas all arguments of DataFrame.drop except for the argument 'labels' will be keyword-only\n",
            "  \"\"\"Entry point for launching an IPython kernel.\n"
          ]
        }
      ]
    },
    {
      "cell_type": "code",
      "source": [
        "df=df.drop('year',1)"
      ],
      "metadata": {
        "colab": {
          "base_uri": "https://localhost:8080/"
        },
        "id": "T5aJ_obhoMt9",
        "outputId": "8b8a58c2-1ac5-4664-9089-149f9c29a911"
      },
      "execution_count": 235,
      "outputs": [
        {
          "output_type": "stream",
          "name": "stderr",
          "text": [
            "/usr/local/lib/python3.7/dist-packages/ipykernel_launcher.py:1: FutureWarning: In a future version of pandas all arguments of DataFrame.drop except for the argument 'labels' will be keyword-only\n",
            "  \"\"\"Entry point for launching an IPython kernel.\n"
          ]
        }
      ]
    },
    {
      "cell_type": "code",
      "source": [
        "!pip install sklearn"
      ],
      "metadata": {
        "colab": {
          "base_uri": "https://localhost:8080/"
        },
        "id": "nzIPBFxpk8Yr",
        "outputId": "7e0b29ec-5f54-44a2-bc69-b39c5ea75cc1"
      },
      "execution_count": 236,
      "outputs": [
        {
          "output_type": "stream",
          "name": "stdout",
          "text": [
            "Requirement already satisfied: sklearn in /usr/local/lib/python3.7/dist-packages (0.0)\n",
            "Requirement already satisfied: scikit-learn in /usr/local/lib/python3.7/dist-packages (from sklearn) (1.0.2)\n",
            "Requirement already satisfied: joblib>=0.11 in /usr/local/lib/python3.7/dist-packages (from scikit-learn->sklearn) (1.1.0)\n",
            "Requirement already satisfied: numpy>=1.14.6 in /usr/local/lib/python3.7/dist-packages (from scikit-learn->sklearn) (1.21.5)\n",
            "Requirement already satisfied: scipy>=1.1.0 in /usr/local/lib/python3.7/dist-packages (from scikit-learn->sklearn) (1.4.1)\n",
            "Requirement already satisfied: threadpoolctl>=2.0.0 in /usr/local/lib/python3.7/dist-packages (from scikit-learn->sklearn) (3.1.0)\n"
          ]
        }
      ]
    },
    {
      "cell_type": "code",
      "source": [
        "X = df.drop('co2', axis=1)\n",
        "y = df.co2\n",
        "X_train, X_test, y_train, y_test = train_test_split(X, y, test_size=0.2, random_state=123) "
      ],
      "metadata": {
        "id": "qi-IxTNNgp6q"
      },
      "execution_count": 237,
      "outputs": []
    },
    {
      "cell_type": "code",
      "source": [
        "rf = RandomForestRegressor(n_estimators=200)\n",
        "rf.fit(X_train,y_train)\n",
        "predict_rf = rf.predict(X_test)"
      ],
      "metadata": {
        "id": "-kSp658jlWYl"
      },
      "execution_count": 238,
      "outputs": []
    },
    {
      "cell_type": "code",
      "source": [
        "import math\n",
        "from sklearn.metrics import explained_variance_score, mean_squared_error, r2_score\n",
        "from sklearn.metrics import mean_absolute_error\n",
        "print(\"\\nMAE:\", round(mean_absolute_error(predict_rf,y_test)))\n",
        "print(\"\\nMSE:\", round(mean_squared_error(y_test,predict_rf),4))\n",
        "print(\"\\nRMSE:\", round(math.sqrt(mean_squared_error(y_test, predict_rf)),4))\n",
        "print(\"\\nR^2:\", round(r2_score(y_test,predict_rf),4))"
      ],
      "metadata": {
        "colab": {
          "base_uri": "https://localhost:8080/"
        },
        "id": "Ep0TsnbOlYzy",
        "outputId": "3c4ec744-e193-4928-da74-2b636a9876eb"
      },
      "execution_count": 239,
      "outputs": [
        {
          "output_type": "stream",
          "name": "stdout",
          "text": [
            "\n",
            "MAE: 10\n",
            "\n",
            "MSE: 4236.8141\n",
            "\n",
            "RMSE: 65.0908\n",
            "\n",
            "R^2: 0.9984\n"
          ]
        }
      ]
    },
    {
      "cell_type": "code",
      "source": [
        "xgbr = xgb.XGBRegressor (nobjective='regression',n_estimators=1000,learning_rate=0.05)\n",
        "xgbr.fit(X_train, y_train)\n",
        "predict_xgbr = xgbr.predict(X_test)"
      ],
      "metadata": {
        "colab": {
          "base_uri": "https://localhost:8080/"
        },
        "id": "lHbqfmtAnl9y",
        "outputId": "9b89829c-9656-4899-e231-86a84f7ad412"
      },
      "execution_count": 240,
      "outputs": [
        {
          "output_type": "stream",
          "name": "stdout",
          "text": [
            "[01:01:33] WARNING: /workspace/src/objective/regression_obj.cu:152: reg:linear is now deprecated in favor of reg:squarederror.\n"
          ]
        }
      ]
    },
    {
      "cell_type": "code",
      "source": [
        "print(\"\\nMAE:\", round(mean_absolute_error(predict_xgbr,y_test)))\n",
        "print(\"\\nMSE:\", round(mean_squared_error(y_test,predict_xgbr),4))\n",
        "print(\"\\nRMSE:\", round(math.sqrt(mean_squared_error(y_test, predict_xgbr)),4))\n",
        "print(\"\\nR^2:\", round(r2_score(y_test,predict_xgbr),4))\n"
      ],
      "metadata": {
        "colab": {
          "base_uri": "https://localhost:8080/"
        },
        "id": "vIGbkwhenmqK",
        "outputId": "ad338597-cb9d-4ff5-ac30-c0e4afd0a7a9"
      },
      "execution_count": 241,
      "outputs": [
        {
          "output_type": "stream",
          "name": "stdout",
          "text": [
            "\n",
            "MAE: 15\n",
            "\n",
            "MSE: 6699.7797\n",
            "\n",
            "RMSE: 81.8522\n",
            "\n",
            "R^2: 0.9974\n"
          ]
        }
      ]
    },
    {
      "cell_type": "code",
      "source": [
        "lr = LinearRegression()\n",
        "lr.fit(X_train,y_train)\n",
        "predict_lr = lr.predict(X_test)\n"
      ],
      "metadata": {
        "id": "ycaX82hu6gvf"
      },
      "execution_count": 242,
      "outputs": []
    },
    {
      "cell_type": "code",
      "source": [
        "print(\"\\nMAE:\", round(mean_absolute_error(predict_lr,y_test)))\n",
        "print(\"\\nMSE:\", round(mean_squared_error(y_test,predict_lr),4))\n",
        "print(\"\\nRMSE:\", round(math.sqrt(mean_squared_error(y_test, predict_lr)),4))\n",
        "print(\"\\nR^2:\", round(r2_score(y_test,predict_lr),4))"
      ],
      "metadata": {
        "colab": {
          "base_uri": "https://localhost:8080/"
        },
        "id": "TutsOBfr6i9u",
        "outputId": "a1ff3e1b-0bde-420b-d74e-58c5e81acc8b"
      },
      "execution_count": 243,
      "outputs": [
        {
          "output_type": "stream",
          "name": "stdout",
          "text": [
            "\n",
            "MAE: 26\n",
            "\n",
            "MSE: 11174.9567\n",
            "\n",
            "RMSE: 105.7117\n",
            "\n",
            "R^2: 0.9957\n"
          ]
        }
      ]
    },
    {
      "cell_type": "code",
      "source": [
        "gb = GradientBoostingRegressor(n_estimators=1000,learning_rate=0.05)\n",
        "gb.fit(X_train,y_train)\n",
        "predict_gb = gb.predict(X_test)"
      ],
      "metadata": {
        "id": "MBtylb3m6wT8"
      },
      "execution_count": 244,
      "outputs": []
    },
    {
      "cell_type": "code",
      "source": [
        "print(\"\\nMAE:\", round(mean_absolute_error(predict_gb,y_test)))\n",
        "print(\"\\nMSE:\", round(mean_squared_error(y_test,predict_gb),4))\n",
        "print(\"\\nRMSE:\", round(math.sqrt(mean_squared_error(y_test, predict_gb)),4))\n",
        "print(\"\\nR^2:\", round(r2_score(y_test,predict_gb),4))"
      ],
      "metadata": {
        "colab": {
          "base_uri": "https://localhost:8080/"
        },
        "id": "N7mCk-e36x-t",
        "outputId": "072ca692-d84d-4491-98a0-2d733944452e"
      },
      "execution_count": 245,
      "outputs": [
        {
          "output_type": "stream",
          "name": "stdout",
          "text": [
            "\n",
            "MAE: 15\n",
            "\n",
            "MSE: 6689.6785\n",
            "\n",
            "RMSE: 81.7905\n",
            "\n",
            "R^2: 0.9975\n"
          ]
        }
      ]
    },
    {
      "cell_type": "code",
      "source": [
        "knn.fit(X_train,y_train)\n",
        "predict_knn = knn.predict(X_test)"
      ],
      "metadata": {
        "id": "c6x2Lzvk7kty"
      },
      "execution_count": 246,
      "outputs": []
    },
    {
      "cell_type": "code",
      "source": [
        "print(\"\\nMAE:\", round(mean_absolute_error(predict_knn,y_test)))\n",
        "print(\"\\nMSE:\", round(mean_squared_error(y_test,predict_knn),4))\n",
        "print(\"\\nRMSE:\", round(math.sqrt(mean_squared_error(y_test, predict_knn)),4))\n",
        "print(\"\\nR^2:\", round(r2_score(y_test,predict_knn),4))"
      ],
      "metadata": {
        "colab": {
          "base_uri": "https://localhost:8080/"
        },
        "id": "crk6Y5VO7mji",
        "outputId": "a0aa7ee8-2beb-4644-bbef-de3d3a11af95"
      },
      "execution_count": 247,
      "outputs": [
        {
          "output_type": "stream",
          "name": "stdout",
          "text": [
            "\n",
            "MAE: 90\n",
            "\n",
            "MSE: 183172.5782\n",
            "\n",
            "RMSE: 427.9867\n",
            "\n",
            "R^2: 0.9303\n"
          ]
        }
      ]
    }
  ]
}